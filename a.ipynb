{
 "cells": [
  {
   "cell_type": "code",
   "execution_count": null,
   "metadata": {},
   "outputs": [
    {
     "name": "stdout",
     "output_type": "stream",
     "text": [
      "  \n",
      " \n",
      "DA \n",
      "Data  Science  and Artificial  Intelligence  \n",
      " \n",
      "Probabi lity and Statistics:  Counting  (permutation  and combinations),  probability  axioms,  Sample  \n",
      "space,  events,  independent  events,  mutually  exclusive  events,  marginal,  conditional  and joint \n",
      "probability,  Bayes  Theorem,  conditional  expectation  and variance,  mean,  median,  mode  and \n",
      "standard  deviation,  correlation,  and covariance,  random  variables,  discrete  random  variables  and \n",
      "probability  mass  functions,  uniform,  Bernoulli,  binomial  distribution,  Continuous  random  \n",
      "variables  and probability  distribution  function,  unifo rm, exponential,  Poisson,  normal,  standard  \n",
      "normal,  t-distribution,  chi-squared  distributions,  cumulative  distribution  function,  Conditional  \n",
      "PDF,  Central  limit  theorem,  confidence  interval,  z-test, t-test, chi-squared  test. \n",
      "Linear  Algebra:  Vector  space,  subspaces,  linear  dependence  and independence  of vectors,  \n",
      "matrices,  projection  matrix,  orthogonal  matrix,  idempotent  matrix,  partition  matrix  and their \n",
      "properties,  quadratic  forms,  systems  of linear  equations  and solutions;  Gaussian  elimination,  \n",
      "eigenvalues  and eigenvectors,  determinant,  rank,  nullity,  projections,  LU decomposition,  singular  \n",
      "value  decomposition.  \n",
      "Calculus  and Optimization:  Functions  of a single  variable,  limit,  continuity  and differentiability,  \n",
      "Taylor  series,  maxima  and minima,  optimization  involving  a single  variable.  \n",
      "Programming,  Data  Structures  and Algorithms:  Programming  in Python,  basic  data structures:  \n",
      "stacks,  queues,  linked  lists, trees,  hash tables;  Search  algorithms:  linear  search  and binary  search,  \n",
      "basic  sorting  algorithms:  selection  sort, bubble  sort and insertion  sort; divide  and conquer:  \n",
      "mergesort,  quicksort;  introduction  to graph  theory;  basic  graph  algorithms:  traversals  and shortest  \n",
      "path.  \n",
      "Database  Management  and Warehousing:  ER-model,  relational  model:  relational  algebra,  tuple  \n",
      "calculus,  SQL,  integrity  constraints,  normal  form,  file organization,  indexing,  data types,  data \n",
      "transformation  such as normalization,  discretization,  sampling,  compression;  data warehouse  \n",
      "modelling:  schema  for multidimensional  data models,  concept  hierarchi es, measures:  \n",
      "categorization  and computations.  \n",
      "Machine  Learning:  (i) Supervised  Learning:  regression  and classification  problems,  simple  linear  \n",
      "regression,  multiple  linear  regression,  ridge  regression,  logistic  regression,  k-nearest  neighbour,  \n",
      "naive  Bayes  classifier,  linear  discriminant  analysis,  support  vector  machine,  decision  trees,  bias-\n",
      "variance  trade -off, cross -validation  methods  such as leave -one-out (LOO)  cross -validation,  k-folds  \n",
      "cross -validation,  multi -layer  perceptron,  feed-forward  neural  network;  (ii) Unsupervised  Learning:  \n",
      "clustering  algorithms,  k-means/k -medoid,  hierarchical  clustering,  top-down,  bottom -up: single -\n",
      "linkage,  multiple -linkage,  dimensionality  reduction,  principal  component  analysis.  \n",
      "AI: Search:  informed,  uninformed,  adversarial;  logic, propositional,  predicate;  reasoning  under  \n",
      "uncertainty  topics  — conditional  independence  representation,  exact  inference  through  variable  \n",
      "elimination,  and approximate  inference  through  sampling.   \n"
     ]
    }
   ],
   "source": []
  },
  {
   "cell_type": "code",
   "execution_count": null,
   "metadata": {},
   "outputs": [],
   "source": [
    "Convert the below text into hindi:\n",
    "Machine  Learning:  (i) Supervised  Learning:  regression  and classification  problems,  simple  linear  \n",
    "regression,  multiple  linear  regression,  ridge  regression,  logistic  regression,  k-nearest  neighbour,  \n",
    "naive  Bayes  classifier,  linear  discriminant  analysis,  support  vector  machine,  decision  trees,  bias-\n",
    "variance  trade -off, cross -validation  methods  such as leave -one-out (LOO)  cross -validation,  k-folds  \n",
    "cross -validation,  multi -layer  perceptron,  feed-forward  neural  network;  (ii) Unsupervised  Learning:  \n",
    "clustering  algorithms,  k-means/k -medoid,  hierarchical  clustering,  top-down,  bottom -up: single -\n",
    "linkage,  multiple -linkage,  dimensionality  reduction,  principal  component  analysis. "
   ]
  }
 ],
 "metadata": {
  "kernelspec": {
   "display_name": "Python 3",
   "language": "python",
   "name": "python3"
  },
  "language_info": {
   "codemirror_mode": {
    "name": "ipython",
    "version": 3
   },
   "file_extension": ".py",
   "mimetype": "text/x-python",
   "name": "python",
   "nbconvert_exporter": "python",
   "pygments_lexer": "ipython3",
   "version": "3.12.4"
  }
 },
 "nbformat": 4,
 "nbformat_minor": 2
}
